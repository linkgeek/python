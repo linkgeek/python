{
 "cells": [
  {
   "cell_type": "code",
   "execution_count": null,
   "metadata": {},
   "outputs": [],
   "source": [
    "import openpyxl\n",
    "from openpyxl import load_workbook\n",
    "import yagmail\n",
    "import keyring\n",
    "from datetime import *"
   ]
  },
  {
   "cell_type": "code",
   "execution_count": null,
   "metadata": {},
   "outputs": [],
   "source": [
    "# 加载Excel文件\n",
    "wb = load_workbook(\"群发工资条.xlsx\",data_only=True)\n",
    "sheet = wb.active\n",
    "print(sheet)"
   ]
  },
  {
   "cell_type": "code",
   "execution_count": null,
   "metadata": {},
   "outputs": [],
   "source": [
    "for row in sheet:\n",
    "    row_text = \"\"\n",
    "    for cell in row:\n",
    "        if cell.column == \"B\":\n",
    "            continue\n",
    "        row_text += f\"{cell.value},\"\n",
    "    print(row_text)"
   ]
  },
  {
   "cell_type": "code",
   "execution_count": null,
   "metadata": {},
   "outputs": [],
   "source": [
    "print(\"年：\", date.today().year)\n",
    "print(\"月：\", date.today().month)\n",
    "print(f\"{date.today().year}-{date.today().month}月\")"
   ]
  },
  {
   "cell_type": "markdown",
   "metadata": {},
   "source": [
    "# 下面演示前端代码"
   ]
  },
  {
   "cell_type": "code",
   "execution_count": null,
   "metadata": {},
   "outputs": [],
   "source": [
    "for row in sheet:\n",
    "    row_text = \"<tr>\"\n",
    "    for cell in row:\n",
    "        if cell.column == \"B\":\n",
    "            continue\n",
    "        row_text += f\"<td>{cell.value}</td>\"\n",
    "    row_text += \"</tr>\"\n",
    "    print(\"\\n\")\n",
    "    print(row_text)"
   ]
  },
  {
   "cell_type": "code",
   "execution_count": null,
   "metadata": {},
   "outputs": [],
   "source": [
    "count = 0\n",
    "table_header = \"<thead>\"\n",
    "for row in sheet.iter_rows(min_row=1):\n",
    "    count += 1\n",
    "    if count == 1:\n",
    "        for cell in row:\n",
    "            if cell.column != \"B\":\n",
    "                table_header += f\"<th>{cell.value}</th>\"\n",
    "        table_header += \"</thead>\"\n",
    "print(table_header)"
   ]
  },
  {
   "cell_type": "markdown",
   "metadata": {},
   "source": [
    "# 完整代码"
   ]
  },
  {
   "cell_type": "code",
   "execution_count": null,
   "metadata": {},
   "outputs": [],
   "source": [
    "import openpyxl\n",
    "from openpyxl import load_workbook\n",
    "import yagmail\n",
    "import keyring\n",
    "from datetime import *\n",
    "\n",
    "# 加载Excel文件\n",
    "wb = load_workbook(\"群发工资条.xlsx\",data_only=True)  # data_only参数：会让系统计算出公式，而不是直接显示纯公式\n",
    "sheet = wb.active\n",
    "\n",
    "# 登陆邮箱\n",
    "yagmail.register(\"1127421544@qq.com\",\"flmyucvntuvbjbcb\")\n",
    "pwd = keyring.get_password(\"yagmail\",\"1127421544@qq.com\")\n",
    "yag = yagmail.SMTP(user=\"1127421544@qq.com\",host=\"smtp.qq.com\",password=pwd)\n",
    "\n",
    "count = 0\n",
    "table_header = \"<thead>\"\n",
    "for row in sheet:\n",
    "    count += 1\n",
    "    if count == 1:\n",
    "        for cell in row:\n",
    "            if cell.column != \"B\":\n",
    "                table_header += f\"<th>{cell.value}</th>\"\n",
    "        table_header += \"</thead>\"\n",
    "        continue\n",
    "    else:         \n",
    "        row_text = \"\"\n",
    "        for cell in row:\n",
    "            if cell.column == \"B\":\n",
    "                continue\n",
    "            row_text += f\"<td>{cell.value}</td>\"\n",
    "        row_text += \"</tr>\"\n",
    "        name = row[2].value\n",
    "        email = row[1].value\n",
    "        # 邮件正文\n",
    "        contents = f\"\"\"\n",
    "                <h3>{name},您好：</h3>\n",
    "                <p>请查收你{date.today().year}-{date.today().month}月的工资条，如果有问题，请私信我。</p>\n",
    "                <table border=\"1px solid black\">{table_header}{row_text}</table>\n",
    "        \"\"\"\n",
    "        # 发邮件\n",
    "        yag.send(f\"{email}\",f\"数据分析与统计学之美有限公司{date.today().year}-{date.today().month}月工资情况\",contents)\n",
    "        print(f\"{name}的工资条发送完毕\")\n",
    "print(\"所有员工工资条发送完毕！\")"
   ]
  }
 ],
 "metadata": {
  "kernelspec": {
   "display_name": "Python 3",
   "language": "python",
   "name": "python3"
  },
  "language_info": {
   "codemirror_mode": {
    "name": "ipython",
    "version": 3
   },
   "file_extension": ".py",
   "mimetype": "text/x-python",
   "name": "python",
   "nbconvert_exporter": "python",
   "pygments_lexer": "ipython3",
   "version": "3.7.0"
  }
 },
 "nbformat": 4,
 "nbformat_minor": 2
}
